{
 "cells": [
  {
   "cell_type": "markdown",
   "id": "db766e57",
   "metadata": {},
   "source": [
    "## Step 1: Load Dataset"
   ]
  },
  {
   "cell_type": "code",
   "execution_count": 1,
   "id": "9dcb4f99",
   "metadata": {},
   "outputs": [
    {
     "name": "stderr",
     "output_type": "stream",
     "text": [
      "/opt/homebrew/Caskroom/miniconda/base/lib/python3.8/site-packages/scipy/__init__.py:146: UserWarning: A NumPy version >=1.16.5 and <1.23.0 is required for this version of SciPy (detected version 1.24.2\n",
      "  warnings.warn(f\"A NumPy version >={np_minversion} and <{np_maxversion}\"\n"
     ]
    }
   ],
   "source": [
    "import numpy as np\n",
    "\n",
    "## load MNIST dataset\n",
    "from sklearn.datasets import fetch_openml\n",
    "mnist = fetch_openml('mnist_784')\n",
    "X = mnist.data\n",
    "y = mnist.target\n",
    "\n",
    "X = X /255 #normalize for aimplicity \n",
    "\n",
    "#split into test, validation, and train sets \n",
    "m = 45000\n",
    "m_val = 15000\n",
    "m_test = 10000\n",
    "X_train, X_val, X_test = np.array(X[:m]), np.array(X[m:m+m_val]), np.array(X[m+m_val:])\n",
    "\n",
    "#one-hot encode mnist labels for classification \n",
    "digits =10 \n",
    "examples = 70000\n",
    "y_new = np.array(y, dtype='int32').reshape(-1)\n",
    "y_new = np.eye(10)[y_new]\n",
    "Y_train, Y_val, Y_test = np.array(y_new[:m]), np.array(y_new[m:m+m_val]), np.array(y_new[m+m_val:])"
   ]
  },
  {
   "cell_type": "markdown",
   "id": "b689a2df",
   "metadata": {},
   "source": [
    "## Step 2: Define Neural Net Functions"
   ]
  },
  {
   "cell_type": "code",
   "execution_count": 2,
   "id": "1f85b982",
   "metadata": {},
   "outputs": [],
   "source": [
    "#Define functions for neural network \n",
    "\n",
    "def sigmoid(Z):\n",
    "    \"\"\"\n",
    "    Sigmoid activation function.\n",
    "    \"\"\"\n",
    "    return 1/(1+np.exp(-Z))\n",
    "\n",
    "def der_sigmoid(Z):\n",
    "    \"\"\"\n",
    "    Derivative of sigmoid activation function.\n",
    "    \"\"\"\n",
    "    return sigmoid(Z) * (1 - sigmoid(Z))\n",
    "\n",
    "def cross_entropy(Y, Y_hat):\n",
    "    \"\"\"\n",
    "    Binary cross entropy loss function.\n",
    "    \"\"\"\n",
    "    L = -np.log(np.max(Y_hat * Y, axis=1) + 1e-8) #add small number to avoid zero error\n",
    "    L = np.average(L)\n",
    "    return L\n",
    "\n",
    "def softmax(x):\n",
    "    \"\"\"Computes softmax values for each sets of scores in x.\"\"\"\n",
    "    prob = []\n",
    "    for arr in x:\n",
    "        exponentiated = [np.exp(x) for x in arr]\n",
    "        denominator = np.sum(exponentiated)\n",
    "        prob.append([x / denominator for x in exponentiated])\n",
    "    return np.array(prob)\n",
    "\n",
    "def accuracy(y, y_hat):\n",
    "    '''Computes accuracy of model preDictions .\n",
    "    '''\n",
    "    bools = np.argmax(y_hat, axis=1) == np.argmax(y, axis=1)\n",
    "    return np.average(bools.astype(int))"
   ]
  },
  {
   "cell_type": "markdown",
   "id": "ab1c61ca",
   "metadata": {},
   "source": [
    "## Step 3: Gradient Descent "
   ]
  },
  {
   "cell_type": "code",
   "execution_count": 3,
   "id": "23c8da28",
   "metadata": {},
   "outputs": [],
   "source": [
    "input_size = 784 #the input layer has 784 pixels as nodes \n",
    "learning_rate = 5  #higher learning rate to speed up training\n",
    "batch_size = 60 #specify batch size for mini-batch gradient descent \n",
    "\n",
    "#Initialization: weights and biases\n",
    "\n",
    "#weights can be very small non-zero random numbers \n",
    "w1 = 0.001 * np.random.randn(input_size,64) \n",
    "w2 = 0.001 * np.random.randn(64,10)\n",
    "#biases can be zeros at the start \n",
    "b1 = np.zeros(64) \n",
    "b2 = np.zeros(10)\n",
    "\n",
    "def gradient_descent(X, y, forward_only=False):\n",
    "    \"\"\"Performs gradient descent on MNIST data to compute loss and accuracy.    \n",
    "    \"\"\"\n",
    "\n",
    "    #weights and biases are globally initialized so they can be saved for later\n",
    "    global w2\n",
    "    global b2\n",
    "    global w1\n",
    "    global b1\n",
    "    \n",
    "    #### Forward Propagation ####\n",
    "    \n",
    "    z1 = np.dot(X,w1) + b1 #multipy weights by input nodes and add bias \n",
    "    s1 = sigmoid(z1) #put it through the activation function \n",
    "    z2 = np.dot(s1,w2) + b2  #multipy weights by previous nodes and add bias \n",
    "    y_hat = softmax(z2) #softmax outputs probabilities as the model output \n",
    "    L = cross_entropy(y,y_hat) #compute loss using model output and true labels\n",
    "    acc = accuracy(y, y_hat) #compute accuracy of predictions\n",
    "    \n",
    "    if forward_only: #for testing, only forward propagate  \n",
    "        return L, acc\n",
    "    \n",
    "    #### Backward propagation ####\n",
    "    \n",
    "    #Apply chain rule on each layer to see how cost changes with respect to \n",
    "    #each component of weights matrix and each bias \n",
    "    \n",
    "    #Gradients for Layer 2 \n",
    "    d_z2 = y_hat - y \n",
    "    d_w2 = s1.T.dot(d_z2) # \n",
    "    d_b2 = np.sum(d_z2, axis=0)\n",
    "    d_s1 = der_sigmoid(z1) * d_z2.dot(w2.T)\n",
    "    \n",
    "    #Gradients for Layer 1\n",
    "    d_w1 = X.T.dot(d_s1)\n",
    "    d_b1 = np.sum(d_w1, axis=0)\n",
    "    \n",
    "    #Use gradients to update weights and biases\n",
    "    w2 = (w2 - (learning_rate * (d_w2 / m)))\n",
    "    b2 = (b2 - (learning_rate * (d_b2 / m)))\n",
    "    w1 = (w1 - (learning_rate * (d_w1 / m)))\n",
    "    b1 = (b1 - (learning_rate * (d_b1 / m)))\n",
    "    \n",
    "    return L, acc"
   ]
  },
  {
   "cell_type": "markdown",
   "id": "2abc68a2",
   "metadata": {},
   "source": [
    "## Step 4: Training"
   ]
  },
  {
   "cell_type": "code",
   "execution_count": 7,
   "id": "7ec99f9b",
   "metadata": {
    "scrolled": false
   },
   "outputs": [
    {
     "name": "stdout",
     "output_type": "stream",
     "text": [
      "Epoch 4 Loss: 2.1965666590892665, Training Accuracy: 0.2773111111111111 Validation Accuracy 0.28706666666666664\n",
      "Epoch 9 Loss: 1.3515898933223485, Training Accuracy: 0.5953555555555555 Validation Accuracy 0.6372666666666666\n",
      "Epoch 14 Loss: 0.8945061190548673, Training Accuracy: 0.7620888888888888 Validation Accuracy 0.7818666666666667\n",
      "Epoch 19 Loss: 0.6746451546406442, Training Accuracy: 0.825288888888889 Validation Accuracy 0.8364666666666666\n",
      "Epoch 24 Loss: 0.5596095009286984, Training Accuracy: 0.8541555555555556 Validation Accuracy 0.8622666666666666\n",
      "Epoch 29 Loss: 0.4912555376623989, Training Accuracy: 0.8702 Validation Accuracy 0.8752000000000001\n",
      "Epoch 34 Loss: 0.4458483136444868, Training Accuracy: 0.8812888888888889 Validation Accuracy 0.8861333333333334\n",
      "Epoch 39 Loss: 0.4133472482290666, Training Accuracy: 0.8882888888888889 Validation Accuracy 0.8932666666666667\n",
      "Epoch 44 Loss: 0.3891872529509264, Training Accuracy: 0.8947111111111111 Validation Accuracy 0.8967333333333334\n",
      "Epoch 49 Loss: 0.3705597155073072, Training Accuracy: 0.8994 Validation Accuracy 0.9006000000000001\n",
      "Epoch 54 Loss: 0.35541012542605116, Training Accuracy: 0.9026222222222222 Validation Accuracy 0.9040666666666667\n",
      "Epoch 59 Loss: 0.34244228231666746, Training Accuracy: 0.9058000000000002 Validation Accuracy 0.9074000000000001\n",
      "Epoch 64 Loss: 0.331377941409329, Training Accuracy: 0.9078888888888889 Validation Accuracy 0.9094\n",
      "Epoch 69 Loss: 0.3218029463931289, Training Accuracy: 0.9105111111111113 Validation Accuracy 0.9121333333333334\n",
      "Epoch 74 Loss: 0.31291998134368443, Training Accuracy: 0.912 Validation Accuracy 0.9140666666666666\n",
      "Epoch 79 Loss: 0.30485491144101806, Training Accuracy: 0.9142888888888889 Validation Accuracy 0.9159333333333334\n",
      "Epoch 84 Loss: 0.2974240083789813, Training Accuracy: 0.9164888888888889 Validation Accuracy 0.9179333333333334\n",
      "Epoch 89 Loss: 0.29041381211584333, Training Accuracy: 0.9180222222222224 Validation Accuracy 0.9198\n",
      "Epoch 94 Loss: 0.28394652160355544, Training Accuracy: 0.919711111111111 Validation Accuracy 0.9216\n",
      "Epoch 99 Loss: 0.27781707903069464, Training Accuracy: 0.9217555555555554 Validation Accuracy 0.9227333333333333\n",
      "Epoch 104 Loss: 0.27204907684685437, Training Accuracy: 0.9232222222222223 Validation Accuracy 0.9240666666666667\n",
      "Epoch 109 Loss: 0.26666957578005496, Training Accuracy: 0.9250666666666666 Validation Accuracy 0.9259333333333334\n",
      "Epoch 114 Loss: 0.26131978890291574, Training Accuracy: 0.9262444444444445 Validation Accuracy 0.9263333333333332\n",
      "Epoch 119 Loss: 0.25630723090123625, Training Accuracy: 0.9281111111111111 Validation Accuracy 0.9269333333333334\n",
      "Epoch 124 Loss: 0.25140656386624777, Training Accuracy: 0.9292444444444445 Validation Accuracy 0.9287333333333333\n",
      "Epoch 129 Loss: 0.2469421125506007, Training Accuracy: 0.9303555555555555 Validation Accuracy 0.9299333333333334\n",
      "Epoch 134 Loss: 0.24246287437005684, Training Accuracy: 0.9318444444444445 Validation Accuracy 0.9310666666666666\n",
      "Epoch 139 Loss: 0.23813295556801464, Training Accuracy: 0.933 Validation Accuracy 0.9318666666666665\n",
      "Epoch 144 Loss: 0.23404441972792833, Training Accuracy: 0.9343777777777778 Validation Accuracy 0.9330666666666667\n",
      "Epoch 149 Loss: 0.23004265105725097, Training Accuracy: 0.9350444444444445 Validation Accuracy 0.9341333333333335\n",
      "Epoch 154 Loss: 0.2261332397113127, Training Accuracy: 0.9365777777777777 Validation Accuracy 0.9339333333333333\n",
      "Epoch 159 Loss: 0.2224854867725991, Training Accuracy: 0.9377777777777777 Validation Accuracy 0.9357333333333333\n",
      "Epoch 164 Loss: 0.21884759238822302, Training Accuracy: 0.938911111111111 Validation Accuracy 0.9357333333333333\n",
      "Epoch 169 Loss: 0.2154593753148315, Training Accuracy: 0.9393777777777778 Validation Accuracy 0.9370666666666667\n",
      "Epoch 174 Loss: 0.21214472222655464, Training Accuracy: 0.9403999999999999 Validation Accuracy 0.9368666666666665\n",
      "Epoch 179 Loss: 0.20880397721037852, Training Accuracy: 0.9410888888888888 Validation Accuracy 0.9384\n",
      "Epoch 184 Loss: 0.20558528797892936, Training Accuracy: 0.9423111111111111 Validation Accuracy 0.9385333333333333\n",
      "Epoch 189 Loss: 0.20267660953579936, Training Accuracy: 0.9427333333333333 Validation Accuracy 0.9390666666666666\n",
      "Epoch 194 Loss: 0.1996593841762941, Training Accuracy: 0.944 Validation Accuracy 0.9402\n",
      "Epoch 199 Loss: 0.19684533177748548, Training Accuracy: 0.9442222222222223 Validation Accuracy 0.9406666666666668\n",
      "Epoch 204 Loss: 0.1940026126736288, Training Accuracy: 0.9455777777777779 Validation Accuracy 0.9414666666666667\n",
      "Epoch 209 Loss: 0.19129041023301382, Training Accuracy: 0.9460444444444444 Validation Accuracy 0.9417333333333333\n",
      "Epoch 214 Loss: 0.1888214800307815, Training Accuracy: 0.9465777777777779 Validation Accuracy 0.9425333333333333\n",
      "Epoch 219 Loss: 0.18627206762127915, Training Accuracy: 0.9471777777777776 Validation Accuracy 0.9430666666666666\n",
      "Epoch 224 Loss: 0.18383566993713696, Training Accuracy: 0.9478222222222221 Validation Accuracy 0.9437333333333333\n",
      "Epoch 229 Loss: 0.1814057044384653, Training Accuracy: 0.9486444444444445 Validation Accuracy 0.944\n",
      "Epoch 234 Loss: 0.17905287545344295, Training Accuracy: 0.9492666666666667 Validation Accuracy 0.9450666666666666\n",
      "Epoch 239 Loss: 0.17693491287504762, Training Accuracy: 0.9497111111111111 Validation Accuracy 0.9444666666666667\n",
      "Epoch 244 Loss: 0.1746130665725003, Training Accuracy: 0.9505333333333333 Validation Accuracy 0.945\n",
      "Epoch 249 Loss: 0.172438769390706, Training Accuracy: 0.9509777777777778 Validation Accuracy 0.9451333333333334\n",
      "Epoch 254 Loss: 0.1704725422439291, Training Accuracy: 0.9518666666666667 Validation Accuracy 0.9462666666666667\n",
      "Epoch 259 Loss: 0.1684981796747687, Training Accuracy: 0.9522666666666667 Validation Accuracy 0.9460666666666666\n",
      "Epoch 264 Loss: 0.16650830353340748, Training Accuracy: 0.9529333333333334 Validation Accuracy 0.9462\n",
      "Epoch 269 Loss: 0.1646328627429171, Training Accuracy: 0.9537111111111111 Validation Accuracy 0.9475999999999999\n",
      "Epoch 274 Loss: 0.16268058790819095, Training Accuracy: 0.9544666666666666 Validation Accuracy 0.9476666666666668\n",
      "Epoch 279 Loss: 0.16092178511410984, Training Accuracy: 0.9548 Validation Accuracy 0.948\n",
      "Epoch 284 Loss: 0.1591403680866933, Training Accuracy: 0.9552666666666667 Validation Accuracy 0.9484666666666667\n",
      "Epoch 289 Loss: 0.15746685986508518, Training Accuracy: 0.9558444444444443 Validation Accuracy 0.9490666666666666\n",
      "Epoch 294 Loss: 0.15567852189036074, Training Accuracy: 0.9564444444444445 Validation Accuracy 0.9485333333333333\n",
      "Epoch 299 Loss: 0.15416796882020578, Training Accuracy: 0.9569111111111112 Validation Accuracy 0.9493999999999999\n"
     ]
    }
   ],
   "source": [
    "def run_epoch(X, y, n, test=False):\n",
    "    '''Computes loss and accuracy for one epoch using mini-batch gradient descent. \n",
    "    '''\n",
    "    \n",
    "    #shuffle datasets\n",
    "    index = np.arange(n)\n",
    "    np.random.shuffle(index)\n",
    "    X = X[index]\n",
    "    y = y[index]\n",
    "    \n",
    "    #divide dataset into batches \n",
    "    batch_count = n / batch_size\n",
    "    X_batches = np.array_split(X, batch_count)\n",
    "    y_batches = np.array_split(y, batch_count)\n",
    "    \n",
    "    #run gradient descent on each batch and save loss and accuracies \n",
    "    losses = []\n",
    "    accs = []\n",
    "    for i in range(len(X_batches)):\n",
    "        loss, acc = gradient_descent(X_batches[i], y_batches[i], forward_only=test)\n",
    "        losses.append(loss)\n",
    "        accs.append(acc)\n",
    "        \n",
    "    #return the average loss and accuracy of the batch \n",
    "    return np.average(losses), np.average(accs)\n",
    "\n",
    "num_epochs = 300\n",
    "train_losses = []\n",
    "train_accuracies = []\n",
    "val_losses = []\n",
    "val_accuracies = []\n",
    "test_losses = []\n",
    "c= 0\n",
    "#run the test, training and validation sets through the neural network and save accuracies and loss \n",
    "for i in range(num_epochs):\n",
    "    loss, acc = run_epoch(X_train,Y_train,m)\n",
    "    loss_, acc_ = run_epoch(X_val, Y_val,m_val, True) #no backward propagation on val set.\n",
    "    test_loss, test_acc = run_epoch(X_test, Y_test, m_test, True) #no backward propagation on test set\n",
    "    train_losses.append(loss)\n",
    "    test_losses.append(test_loss)\n",
    "    val_losses.append(loss_)\n",
    "    val_accuracies.append(acc_)\n",
    "    train_accuracies.append(acc)\n",
    "    c+=1\n",
    "    if c % 5 == 0:\n",
    "        print(f\"Epoch {i} Loss: {loss}, Training Accuracy: {acc} Validation Accuracy {acc_}\")"
   ]
  },
  {
   "cell_type": "markdown",
   "id": "1c6d4df4",
   "metadata": {},
   "source": [
    "## Step 5: Performance"
   ]
  },
  {
   "cell_type": "code",
   "execution_count": 8,
   "id": "39f4360e",
   "metadata": {},
   "outputs": [
    {
     "name": "stdout",
     "output_type": "stream",
     "text": [
      "Test Accuracy:  95.16 %\n"
     ]
    },
    {
     "data": {
      "text/plain": [
       "<matplotlib.legend.Legend at 0x7fe7a8f9bb80>"
      ]
     },
     "execution_count": 8,
     "metadata": {},
     "output_type": "execute_result"
    },
    {
     "data": {
      "image/png": "[encoded data removed]",
      "text/plain": [
       "<Figure size 432x288 with 1 Axes>"
      ]
     },
     "metadata": {
      "needs_background": "light"
     },
     "output_type": "display_data"
    }
   ],
   "source": [
    "test_loss_, test_accuracy_ = gradient_descent(X_test, Y_test, True)\n",
    "\n",
    "print('Test Accuracy: ', test_accuracy_ *100, '%')\n",
    "import matplotlib.pyplot as plt\n",
    "\n",
    "plt.plot(list(range(300)),train_losses)\n",
    "plt.plot(list(range(300)),val_losses)\n",
    "plt.plot(list(range(300)),test_losses)\n",
    "\n",
    "plt.xlabel(\"Loss/Cost\")\n",
    "plt.ylabel(\"No. of Epochs\")\n",
    "plt.title(\"Figure 1. Neural Network Performance During Training\")\n",
    "plt.legend(['Training Set','validation Set', 'Test Set'])"
   ]
  }
 ],
 "metadata": {
  "kernelspec": {
   "display_name": "Python 3 (ipykernel)",
   "language": "python",
   "name": "python3"
  },
  "language_info": {
   "codemirror_mode": {
    "name": "ipython",
    "version": 3
   },
   "file_extension": ".py",
   "mimetype": "text/x-python",
   "name": "python",
   "nbconvert_exporter": "python",
   "pygments_lexer": "ipython3",
   "version": "3.8.5"
  }
 },
 "nbformat": 4,
 "nbformat_minor": 5
}
